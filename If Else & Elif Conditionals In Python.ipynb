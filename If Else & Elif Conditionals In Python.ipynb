{
 "cells": [
  {
   "cell_type": "code",
   "execution_count": 4,
   "metadata": {},
   "outputs": [],
   "source": [
    "va11 = 10"
   ]
  },
  {
   "cell_type": "code",
   "execution_count": 5,
   "metadata": {},
   "outputs": [],
   "source": [
    "var2 = 90"
   ]
  },
  {
   "cell_type": "code",
   "execution_count": 16,
   "metadata": {},
   "outputs": [
    {
     "name": "stdout",
     "output_type": "stream",
     "text": [
      "110\n",
      "Grater\n"
     ]
    }
   ],
   "source": [
    "var3 = int(input()) ## input is always receieve in string hence typecasted (already studied) into integer so that we can do calculation\n",
    "if var3 > var2: ## colon : means we are now enetering in the sttement\n",
    "    print (\"Grater\") ## we got indentation automatically\n",
    "elif var3 == var2:\n",
    "    print (\"It is equal\")\n",
    "else:\n",
    "    print(\"lesser\")"
   ]
  },
  {
   "cell_type": "code",
   "execution_count": 24,
   "metadata": {},
   "outputs": [
    {
     "name": "stdout",
     "output_type": "stream",
     "text": [
      "Yes in the list\n"
     ]
    }
   ],
   "source": [
    "lst1 = [4,5,6] ## created list\n",
    "if 5 in lst1: ## used in to know if 5 is there in the list. IN helps to know if item is in the list.\n",
    "    print (\"Yes in the list\")\n",
    "else:\n",
    "    print (\"No not in list\")"
   ]
  },
  {
   "cell_type": "code",
   "execution_count": 28,
   "metadata": {},
   "outputs": [
    {
     "name": "stdout",
     "output_type": "stream",
     "text": [
      "False\n",
      "yes, in list\n"
     ]
    }
   ],
   "source": [
    "lst2 = [4,5,6] ## created list\n",
    "print (5 not in lst1)\n",
    "if 5 not in lst1: ## used not in to know if 5 is not there in the list. Not IN helps to know if item is not in the list.\n",
    "    print (\"Not in list\")\n",
    "else:\n",
    "    print (\"yes, in list\")"
   ]
  },
  {
   "cell_type": "markdown",
   "metadata": {},
   "source": [
    "## Quiz- Input age of a person- if greater than 18 -output can drive, less than 18- output- can't drive. if 18- output- come to RTO "
   ]
  },
  {
   "cell_type": "code",
   "execution_count": 34,
   "metadata": {},
   "outputs": [
    {
     "name": "stdout",
     "output_type": "stream",
     "text": [
      "Eligibility of driving Test\n",
      "\n",
      "Please Input your Age:\n",
      "54\n",
      "Hurrey, you are eligible to drive!\n",
      "\n"
     ]
    }
   ],
   "source": [
    "\n",
    "print (\"Eligibility of driving Test\\n\")\n",
    "print (\"Please Input your Age:\")\n",
    "age = int(input())\n",
    "if age > 18:\n",
    "    print (\"Hurrey, you are eligible to drive!\\n\")\n",
    "elif age == 18:\n",
    "    print (\"Unable to identify, come to office\\n\")\n",
    "elif age < 18:\n",
    "    print (\"Sorry, you are not eligible \")"
   ]
  },
  {
   "cell_type": "markdown",
   "metadata": {},
   "source": [
    "## create a dictionary of 5 key and value pair. On user input it should tell the meaning of the word from the dictionary created"
   ]
  },
  {
   "cell_type": "code",
   "execution_count": 38,
   "metadata": {},
   "outputs": [],
   "source": [
    "dict1 = {\"1\":\"a\", \"2\":\"b\", \"3\":\"c\", \"4\":\"d\", \"5\":\"e\"}"
   ]
  },
  {
   "cell_type": "code",
   "execution_count": 43,
   "metadata": {},
   "outputs": [
    {
     "name": "stdout",
     "output_type": "stream",
     "text": [
      "{'1': 'a', '2': 'b', '3': 'c', '4': 'd', '5': 'e'}\n"
     ]
    }
   ],
   "source": [
    "print (dict1)"
   ]
  },
  {
   "cell_type": "code",
   "execution_count": 50,
   "metadata": {},
   "outputs": [
    {
     "name": "stdout",
     "output_type": "stream",
     "text": [
      "c\n"
     ]
    }
   ],
   "source": [
    "print(dict1['3'])"
   ]
  },
  {
   "cell_type": "code",
   "execution_count": 64,
   "metadata": {},
   "outputs": [
    {
     "name": "stdout",
     "output_type": "stream",
     "text": [
      "Enter between 1-5\n",
      "3\n",
      "c\n"
     ]
    }
   ],
   "source": [
    "## solution to above quiz\n",
    "dict1 = {\"1\":\"a\", \"2\":\"b\", \"3\":\"c\", \"4\":\"d\", \"5\":\"e\"}\n",
    "out1 = (input(\"Enter between 1-5\\n\"))\n",
    "print (dict1[out1])"
   ]
  },
  {
   "cell_type": "code",
   "execution_count": null,
   "metadata": {},
   "outputs": [],
   "source": []
  },
  {
   "cell_type": "code",
   "execution_count": null,
   "metadata": {},
   "outputs": [],
   "source": []
  },
  {
   "cell_type": "code",
   "execution_count": null,
   "metadata": {},
   "outputs": [],
   "source": []
  },
  {
   "cell_type": "code",
   "execution_count": null,
   "metadata": {},
   "outputs": [],
   "source": []
  },
  {
   "cell_type": "code",
   "execution_count": null,
   "metadata": {},
   "outputs": [],
   "source": []
  },
  {
   "cell_type": "code",
   "execution_count": null,
   "metadata": {},
   "outputs": [],
   "source": []
  },
  {
   "cell_type": "code",
   "execution_count": null,
   "metadata": {},
   "outputs": [],
   "source": []
  },
  {
   "cell_type": "code",
   "execution_count": null,
   "metadata": {},
   "outputs": [],
   "source": []
  }
 ],
 "metadata": {
  "kernelspec": {
   "display_name": "Python 3",
   "language": "python",
   "name": "python3"
  },
  "language_info": {
   "codemirror_mode": {
    "name": "ipython",
    "version": 3
   },
   "file_extension": ".py",
   "mimetype": "text/x-python",
   "name": "python",
   "nbconvert_exporter": "python",
   "pygments_lexer": "ipython3",
   "version": "3.8.0"
  }
 },
 "nbformat": 4,
 "nbformat_minor": 4
}
