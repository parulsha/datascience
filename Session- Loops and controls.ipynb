{
 "cells": [
  {
   "cell_type": "markdown",
   "metadata": {},
   "source": [
    "##Selections (if, else, elif) & Repetitions (for, while, break, continue)"
   ]
  },
  {
   "cell_type": "markdown",
   "metadata": {},
   "source": [
    "##scenario- e.g.- wait for sometime before participant joins\n",
    "The class starts when a certain number of studets(5) have joined. Untill then we will wait\n",
    "write the python code to similate the situation"
   ]
  },
  {
   "cell_type": "code",
   "execution_count": 2,
   "metadata": {},
   "outputs": [],
   "source": [
    "##Algorithm for the solution\n"
   ]
  },
  {
   "cell_type": "code",
   "execution_count": 4,
   "metadata": {},
   "outputs": [],
   "source": [
    "##syntex for if"
   ]
  },
  {
   "cell_type": "markdown",
   "metadata": {},
   "source": [
    "### Input always return string variable"
   ]
  },
  {
   "cell_type": "code",
   "execution_count": 9,
   "metadata": {},
   "outputs": [
    {
     "name": "stdout",
     "output_type": "stream",
     "text": [
      "waiting...\n",
      "Did a participant joined y/n?y\n",
      "waiting...\n",
      "Did a participant joined y/n?y\n",
      "waiting...\n",
      "Did a participant joined y/n?n\n",
      "waiting...\n",
      "Did a participant joined y/n?y\n",
      "waiting...\n",
      "Did a participant joined y/n?y\n",
      "waiting...\n",
      "Did a participant joined y/n?y\n",
      "Great!let's bigin.\n"
     ]
    }
   ],
   "source": [
    "student_count = 0\n",
    "class_started = False\n",
    "\n",
    "while (class_started == False):\n",
    "    \n",
    "    if (student_count == 5):\n",
    "        class_started = True\n",
    "    else:\n",
    "        print('waiting...')\n",
    "        new_joined = input('Did a participant joined y/n?')\n",
    "        if new_joined == 'y':\n",
    "            student_count += 1\n",
    "    \n",
    "print (\"Great!let's bigin.\")"
   ]
  },
  {
   "cell_type": "code",
   "execution_count": null,
   "metadata": {},
   "outputs": [],
   "source": []
  }
 ],
 "metadata": {
  "kernelspec": {
   "display_name": "Python 3",
   "language": "python",
   "name": "python3"
  },
  "language_info": {
   "codemirror_mode": {
    "name": "ipython",
    "version": 3
   },
   "file_extension": ".py",
   "mimetype": "text/x-python",
   "name": "python",
   "nbconvert_exporter": "python",
   "pygments_lexer": "ipython3",
   "version": "3.8.0"
  }
 },
 "nbformat": 4,
 "nbformat_minor": 4
}
