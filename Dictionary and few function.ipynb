{
 "cells": [
  {
   "cell_type": "markdown",
   "metadata": {},
   "source": [
    "## Dictionary- Key- value pairs"
   ]
  },
  {
   "cell_type": "code",
   "execution_count": 1,
   "metadata": {},
   "outputs": [],
   "source": [
    "dnr1 = {}"
   ]
  },
  {
   "cell_type": "code",
   "execution_count": 2,
   "metadata": {},
   "outputs": [
    {
     "data": {
      "text/plain": [
       "dict"
      ]
     },
     "execution_count": 2,
     "metadata": {},
     "output_type": "execute_result"
    }
   ],
   "source": [
    "type(dnr)"
   ]
  },
  {
   "cell_type": "code",
   "execution_count": 16,
   "metadata": {},
   "outputs": [],
   "source": [
    "dnr2 = {\"sha\" : \"veg\", \"paul\" : \"eggitarian\", \"pooja\" : \"non veg\", \"sandy\": {\"bf\" : \"bread\", \"ln\" : \"chapati\", \"dnr\" : \"rice\"}}"
   ]
  },
  {
   "cell_type": "code",
   "execution_count": 18,
   "metadata": {},
   "outputs": [
    {
     "name": "stdout",
     "output_type": "stream",
     "text": [
      "{'sha': 'veg', 'paul': 'eggitarian', 'pooja': 'non veg', 'sandy': {'bf': 'bread', 'ln': 'chapati', 'dnr': 'rice'}}\n"
     ]
    }
   ],
   "source": [
    "print (dnr2)"
   ]
  },
  {
   "cell_type": "code",
   "execution_count": 24,
   "metadata": {},
   "outputs": [
    {
     "name": "stdout",
     "output_type": "stream",
     "text": [
      "{'bf': 'bread', 'ln': 'chapati', 'dnr': 'rice'}\n"
     ]
    }
   ],
   "source": [
    "print (dnr2['sandy'])"
   ]
  },
  {
   "cell_type": "code",
   "execution_count": 25,
   "metadata": {},
   "outputs": [
    {
     "name": "stdout",
     "output_type": "stream",
     "text": [
      "bread\n"
     ]
    }
   ],
   "source": [
    "print (dnr2['sandy']['bf']) ## what sandy eats in breakfast"
   ]
  },
  {
   "cell_type": "code",
   "execution_count": 26,
   "metadata": {},
   "outputs": [],
   "source": [
    "dnr2[\"kapil\"] = \"rabri\" ## how to add new key value pair in dictionary"
   ]
  },
  {
   "cell_type": "code",
   "execution_count": 28,
   "metadata": {},
   "outputs": [],
   "source": [
    "dnr2[\"anuj\"] = \"rosogulla\""
   ]
  },
  {
   "cell_type": "code",
   "execution_count": 29,
   "metadata": {},
   "outputs": [
    {
     "name": "stdout",
     "output_type": "stream",
     "text": [
      "{'sha': 'veg', 'paul': 'eggitarian', 'pooja': 'non veg', 'sandy': {'bf': 'bread', 'ln': 'chapati', 'dnr': 'rice'}, 'kapil': 'rabri', 'anuj': 'rosogulla'}\n"
     ]
    }
   ],
   "source": [
    "print (dnr2)"
   ]
  },
  {
   "cell_type": "code",
   "execution_count": 31,
   "metadata": {},
   "outputs": [],
   "source": [
    "del dnr2['anuj'] ## How to remove from dictionary. Below you can see Anuj is now removed"
   ]
  },
  {
   "cell_type": "code",
   "execution_count": 32,
   "metadata": {},
   "outputs": [
    {
     "name": "stdout",
     "output_type": "stream",
     "text": [
      "{'sha': 'veg', 'paul': 'eggitarian', 'pooja': 'non veg', 'sandy': {'bf': 'bread', 'ln': 'chapati', 'dnr': 'rice'}, 'kapil': 'rabri'}\n"
     ]
    }
   ],
   "source": [
    "print (dnr2)"
   ]
  },
  {
   "cell_type": "code",
   "execution_count": 34,
   "metadata": {},
   "outputs": [],
   "source": [
    "dnr3 = dnr2 ### dnr3 is a pointer which is pointing to dnr2 and dnr2 is also pointer pointig to dnr2 varable itself"
   ]
  },
  {
   "cell_type": "code",
   "execution_count": 36,
   "metadata": {},
   "outputs": [
    {
     "name": "stdout",
     "output_type": "stream",
     "text": [
      "{'sha': 'veg', 'paul': 'eggitarian', 'pooja': 'non veg', 'sandy': {'bf': 'bread', 'ln': 'chapati', 'dnr': 'rice'}, 'kapil': 'rabri'}\n"
     ]
    }
   ],
   "source": [
    "print (dnr3) ## if u delete from dnr2 it will delete from dnr3 as well. if i remove from dnr3 will also get removed from dnr3"
   ]
  },
  {
   "cell_type": "code",
   "execution_count": 37,
   "metadata": {},
   "outputs": [],
   "source": [
    "dnr4 = dnr2.copy() ## now this will create new copy dnr4"
   ]
  },
  {
   "cell_type": "code",
   "execution_count": 38,
   "metadata": {},
   "outputs": [
    {
     "name": "stdout",
     "output_type": "stream",
     "text": [
      "{'sha': 'veg', 'paul': 'eggitarian', 'pooja': 'non veg', 'sandy': {'bf': 'bread', 'ln': 'chapati', 'dnr': 'rice'}, 'kapil': 'rabri'}\n"
     ]
    }
   ],
   "source": [
    "print (dnr4)"
   ]
  },
  {
   "cell_type": "code",
   "execution_count": 39,
   "metadata": {},
   "outputs": [],
   "source": [
    "del dnr4[\"kapil\"] ## this will remove only from dnr4 as we have cretaed copy. below is the example"
   ]
  },
  {
   "cell_type": "code",
   "execution_count": 40,
   "metadata": {},
   "outputs": [
    {
     "name": "stdout",
     "output_type": "stream",
     "text": [
      "{'sha': 'veg', 'paul': 'eggitarian', 'pooja': 'non veg', 'sandy': {'bf': 'bread', 'ln': 'chapati', 'dnr': 'rice'}}\n"
     ]
    }
   ],
   "source": [
    "print (dnr4)"
   ]
  },
  {
   "cell_type": "code",
   "execution_count": 41,
   "metadata": {},
   "outputs": [
    {
     "name": "stdout",
     "output_type": "stream",
     "text": [
      "{'sha': 'veg', 'paul': 'eggitarian', 'pooja': 'non veg', 'sandy': {'bf': 'bread', 'ln': 'chapati', 'dnr': 'rice'}, 'kapil': 'rabri'}\n"
     ]
    }
   ],
   "source": [
    "print (dnr2)"
   ]
  },
  {
   "cell_type": "code",
   "execution_count": 46,
   "metadata": {},
   "outputs": [
    {
     "name": "stdout",
     "output_type": "stream",
     "text": [
      "rabri\n"
     ]
    }
   ],
   "source": [
    "print (dnr2.get ('kapil'))"
   ]
  },
  {
   "cell_type": "code",
   "execution_count": 48,
   "metadata": {},
   "outputs": [],
   "source": [
    "dnr2.update ({\"negi\": \"smoke\"}) ## update function"
   ]
  },
  {
   "cell_type": "code",
   "execution_count": 49,
   "metadata": {},
   "outputs": [
    {
     "name": "stdout",
     "output_type": "stream",
     "text": [
      "{'sha': 'veg', 'paul': 'eggitarian', 'pooja': 'non veg', 'sandy': {'bf': 'bread', 'ln': 'chapati', 'dnr': 'rice'}, 'kapil': 'rabri', 'negi': 'smoke'}\n"
     ]
    }
   ],
   "source": [
    "print (dnr2)"
   ]
  },
  {
   "cell_type": "code",
   "execution_count": 52,
   "metadata": {},
   "outputs": [
    {
     "name": "stdout",
     "output_type": "stream",
     "text": [
      "dict_keys(['sha', 'paul', 'pooja', 'sandy', 'kapil', 'negi'])\n"
     ]
    }
   ],
   "source": [
    "print (dnr2.keys())"
   ]
  },
  {
   "cell_type": "code",
   "execution_count": 54,
   "metadata": {},
   "outputs": [
    {
     "name": "stdout",
     "output_type": "stream",
     "text": [
      "dict_items([('sha', 'veg'), ('paul', 'eggitarian'), ('pooja', 'non veg'), ('sandy', {'bf': 'bread', 'ln': 'chapati', 'dnr': 'rice'}), ('kapil', 'rabri'), ('negi', 'smoke')])\n"
     ]
    }
   ],
   "source": [
    "print (dnr2.items())"
   ]
  },
  {
   "cell_type": "code",
   "execution_count": null,
   "metadata": {},
   "outputs": [],
   "source": []
  }
 ],
 "metadata": {
  "kernelspec": {
   "display_name": "Python 3",
   "language": "python",
   "name": "python3"
  },
  "language_info": {
   "codemirror_mode": {
    "name": "ipython",
    "version": 3
   },
   "file_extension": ".py",
   "mimetype": "text/x-python",
   "name": "python",
   "nbconvert_exporter": "python",
   "pygments_lexer": "ipython3",
   "version": "3.8.0"
  }
 },
 "nbformat": 4,
 "nbformat_minor": 4
}
